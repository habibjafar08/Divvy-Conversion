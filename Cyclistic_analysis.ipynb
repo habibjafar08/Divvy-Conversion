{
 "cells": [
  {
   "cell_type": "markdown",
   "metadata": {},
   "source": [
    "## **About the Company**\n",
    "\n",
    "---\n",
    "\n",
    "In 2016, Cyclistic launched a successful bike-share offering. Since then, the program has grown to a fleet of 5,824 bicycles that are geo tracked and locked into a network of 692 stations across Chicago. The bikes can be unlocked from one station and returned to any other station in the system anytime.\n",
    "\n",
    "<aside>\n",
    "💡 **Cyclistic:** A bike-share program that features more than 5,800 bicycles and 600 docking stations. Cyclistic sets itself apart by also offering reclining bikes, hand tricycles, and cargo bikes, making bike-share more inclusive to people with disabilities and riders who can’t use a standard two-wheeled bike.\n",
    "\n",
    "</aside>\n",
    "\n",
    "## Business Context\n",
    "\n",
    "---\n",
    "\n",
    "Until now, Cyclistic’s marketing strategy relied on building general awareness and appealing to broad consumer segments. One approach that helped make these things possible was the flexibility of its pricing plans: single-ride passes, full-day passes, and annual memberships. Customers who purchase single-ride or full-day passes are referred to as casual riders. Customers who purchase annual memberships are Cyclistic members.\n",
    "\n",
    "> **Cyclistic’s finance analysts have concluded that annual members are much more profitable than casual riders**. Although the pricing flexibility helps Cyclistic attract more customers, Moreno, the director of marketing, believes that maximizing the number of annual members will be key to future growth. Rather than creating a marketing campaign that targets all-new customers, Moreno believes there is a very good chance to convert casual riders into members.\n",
    "> \n",
    "\n",
    "## Business Task\n",
    "\n",
    "---\n",
    "\n",
    "Moreno and her team are interested in analyzing the Cyclistic historical bike trip data to identify trends. Moreno has set a clear goal: ***Design marketing strategies aimed at converting casual riders into annual members***. In order to do that, however, the marketing analyst team needs to better understand:\n",
    "\n",
    "1. How annual members and casual riders differ?\n",
    "2. Why casual riders would buy a membership?\n",
    "3. How digital media could affect their marketing tactics?"
   ]
  },
  {
   "cell_type": "markdown",
   "metadata": {},
   "source": [
    "## Scenario\n",
    "\n",
    "---\n",
    "\n",
    "You are a junior data analyst working in the marketing analyst team at Cyclistic, a bike-share company in Chicago. Therefore, your team wants to understand how casual riders and annual members use Cyclistic bikes differently. From these insights, your team will design a new marketing strategy to convert casual riders into annual members. \n",
    "\n",
    "The key stakeholders in this project are:\n",
    "\n",
    "- **Lily Moreno:** The director of marketing and your manager. Moreno is responsible for the development of campaigns and initiatives to promote the bike-share program. These may include email, social media, and other channels.\n",
    "- **Cyclistic marketing analytics team:** A team of data analysts who are responsible for collecting, analyzing, and reporting data that helps guide Cyclistic marketing strategy.\n",
    "- **Cyclistic executive team:** The notoriously detail-oriented executive team will decide whether to approve the recommended marketing program.\n",
    "\n",
    "## Available Data\n",
    "\n",
    "---\n",
    "\n",
    "You will use Cyclistic’s historical trip data to analyze and identify trends. This is public data that you can use to explore how different customer types are using Cyclistic bikes. The data has been made available by Motivate International Inc. under this **[license](https://ride.divvybikes.com/data-license-agreement),** you can download the data [**here**](https://divvy-tripdata.s3.amazonaws.com/index.html).\n",
    "\n",
    "| Column | Description |\n",
    "| --- | --- |\n",
    "| ride_id | The identification number for ride from start station to end station in given time. |\n",
    "| rideable_type | Cyclistic company bike type, there are 3 bike type classic bike, docked bike, and electric bike. |\n",
    "| started_at | Date and time when the ride begin. |\n",
    "| ended_at | Date and time when the ride end. |\n",
    "| day | Day name when the ride begin. |\n",
    "| start_station_name | The name of the station where the ride begin. |\n",
    "| start_station_id | The id of start station. |\n",
    "| end_station_name | The name of the station where the ride end. |\n",
    "| end_station_id | The id of end station. |\n",
    "| member_casual | The riders type in Cyclistic company. |\n",
    "| start_lat | Latitude of the start station. |\n",
    "| start_lng | Longitude of the start station. |\n",
    "| end_lat | Latitude of the end station. |\n",
    "| end_lng | Longitude of the end station. |"
   ]
  },
  {
   "cell_type": "code",
   "execution_count": null,
   "metadata": {},
   "outputs": [],
   "source": [
    "#Import library\n",
    "import pandas as pd\n",
    "import numpy as np\n",
    "import altair as alt\n",
    "print(alt.__version__)\n",
    "\n",
    "alt.data_transformers.disable_max_rows()"
   ]
  },
  {
   "cell_type": "code",
   "execution_count": null,
   "metadata": {},
   "outputs": [],
   "source": [
    "df= pd.read_csv('data_clean.csv', parse_dates=['started_at','ended_at'])\n",
    "df.sample(10)"
   ]
  },
  {
   "cell_type": "markdown",
   "metadata": {},
   "source": [
    "1. How annual members and casual riders differ?"
   ]
  },
  {
   "cell_type": "markdown",
   "metadata": {},
   "source": [
    "* Proportion of member and casual rider"
   ]
  },
  {
   "cell_type": "code",
   "execution_count": null,
   "metadata": {},
   "outputs": [],
   "source": [
    "df_count= df.groupby('member_casual')['ride_id'].count().to_frame().reset_index()\n",
    "df_count['percentage']= round(df_count['ride_id']/df_count['ride_id'].sum()*100,2)\n",
    "df_count"
   ]
  },
  {
   "cell_type": "code",
   "execution_count": null,
   "metadata": {},
   "outputs": [],
   "source": [
    "chart = alt.Chart(data=df_count)\n",
    "\n",
    "# Menampilkan bar chart\n",
    "base= chart.encode(\n",
    "    x=alt.X('member_casual',axis=alt.Axis(labelAngle=0), sort=['member','casual']),\n",
    "    y=alt.Y('percentage'),\n",
    "    text=alt.Text('percentage', format='0.2f'),\n",
    "    color=alt.Color('member_casual')\n",
    ").properties(\n",
    "    title=alt.Title(\n",
    "        \"23% Riders part of Casual Memberships\",\n",
    "        subtitle='Precentage of Memberships Type',\n",
    "        anchor='start',\n",
    "        font='Calibri',\n",
    "        fontSize=18,\n",
    "        offset=20,\n",
    "    ),\n",
    "    width=450, height=300,\n",
    ")\n",
    "\n",
    "base.mark_bar(color='tableau20')+ base.mark_text(align=\"center\", baseline=\"middle\",dy=-8)"
   ]
  },
  {
   "cell_type": "code",
   "execution_count": null,
   "metadata": {},
   "outputs": [],
   "source": [
    "#Rideable type based on membership\n",
    "type= df.groupby(['member_casual','rideable_type']).agg(func={'ride_id':'count'}).reset_index()\n",
    "total_rides = type.groupby('member_casual')['ride_id'].transform('sum')\n",
    "type['percentage'] = round((type['ride_id'] / total_rides) * 100,2)\n",
    "type.head()"
   ]
  },
  {
   "cell_type": "code",
   "execution_count": null,
   "metadata": {},
   "outputs": [],
   "source": [
    "chart = alt.Chart(data=type)\n",
    "\n",
    "# Menampilkan bar chart\n",
    "base= chart.encode(\n",
    "    x=alt.X('member_casual',axis=alt.Axis(labelAngle=0), sort=['member','casual']),\n",
    "    y=alt.Y('percentage'),\n",
    "    text=alt.Text('percentage', format='0.2f'),\n",
    "    color=alt.Color('rideable_type')\n",
    ").properties(\n",
    "    title=alt.Title(\n",
    "        \"61% Casual Riders Choose Electric Bike Type\",\n",
    "        subtitle='Precentage of Bike Type/Membership',\n",
    "        anchor='start',\n",
    "        font='Calibri',\n",
    "        fontSize=18,\n",
    "        offset=20,\n",
    "    ),\n",
    "    width=450, height=300,\n",
    ")\n",
    "\n",
    "base.mark_bar(color='tableau20')#+ base.mark_text(align=\"center\", baseline=\"middle\",)"
   ]
  },
  {
   "cell_type": "code",
   "execution_count": 11,
   "metadata": {},
   "outputs": [],
   "source": [
    "color_scale = alt.Scale(\n",
    "        domain=['member', 'casual'], \n",
    "        range=['#ff7f0e', '#5778a4'])"
   ]
  },
  {
   "cell_type": "code",
   "execution_count": null,
   "metadata": {},
   "outputs": [],
   "source": [
    "chart = alt.Chart(data=df[df['member_casual']=='member'])\n",
    "\n",
    "# Menampilkan bar chart\n",
    "base= chart.encode(\n",
    "    x=alt.X('day_of_week',axis=alt.Axis(labelAngle=0), sort=['Sunday','Monday','Tuesday','Wednesday','Thursday','Friday','Saturday']),\n",
    "    y=alt.Y('count(ride_id)'),\n",
    "    text=alt.Text('count(ride_id)', format='0.2f'),\n",
    "    color=alt.Color('member_casual', scale=color_scale)\n",
    ").properties(\n",
    "    title=alt.Title(\n",
    "        \"More trips in weekday from member\",\n",
    "        subtitle='Count of trip per Day',\n",
    "        anchor='start',\n",
    "        font='Calibri',\n",
    "        fontSize=18,\n",
    "        offset=20,\n",
    "    ),\n",
    "    width=400, height=200,\n",
    ")\n",
    "\n",
    "base.mark_bar(color='tableau20')"
   ]
  },
  {
   "cell_type": "code",
   "execution_count": null,
   "metadata": {},
   "outputs": [],
   "source": [
    "a= df[df['member_casual']=='member'].groupby('day_of_week').agg(func={'ride_id':'count','Time_minutes':'median'})\n",
    "a.reset_index()\n",
    "a= a.iloc[[3,1,5,6,4,0,2],:]\n",
    "a.reset_index(inplace=True)\n",
    "a"
   ]
  },
  {
   "cell_type": "code",
   "execution_count": null,
   "metadata": {},
   "outputs": [],
   "source": [
    "chart = alt.Chart(data=df[df['member_casual']=='casual'])\n",
    "\n",
    "# Menampilkan bar chart\n",
    "base= chart.encode(\n",
    "    x=alt.X('day_of_week',axis=alt.Axis(labelAngle=0), sort=['Sunday','Monday','Tuesday','Wednesday','Thursday','Friday','Saturday']),\n",
    "    y=alt.Y('count(ride_id)'),\n",
    "    text=alt.Text('count(ride_id)', format='0.2f'),\n",
    "    color=alt.Color('member_casual', scale=color_scale)\n",
    ").properties(\n",
    "    title=alt.Title(\n",
    "        \"More trips in Sunday from Casual Riders\",\n",
    "        subtitle='Count of trip per Day',\n",
    "        anchor='start',\n",
    "        font='Calibri',\n",
    "        fontSize=18,\n",
    "        offset=20,\n",
    "    ),\n",
    "    width=400, height=200,\n",
    ")\n",
    "\n",
    "base.mark_bar(color='tableau20')"
   ]
  },
  {
   "cell_type": "code",
   "execution_count": null,
   "metadata": {},
   "outputs": [],
   "source": [
    "source = df[df['member_casual']=='casual']\n",
    "\n",
    "base = alt.Chart(source).encode(\n",
    "    alt.X('time_hour', axis=alt.Axis(title=None))\n",
    ").properties(width=400, height=200)\n",
    "\n",
    "bar = base.mark_bar(color='#5778a4').encode(\n",
    "    alt.Y('count(ride_id)',\n",
    "          axis=alt.Axis(title='Count of Ride', titleColor='black')),\n",
    ")\n",
    "\n",
    "line = base.mark_line(stroke='red', interpolate='monotone').encode(\n",
    "    alt.Y('median(Time_minutes)',\n",
    "          axis=alt.Axis(title='Rent Time (minutes)', titleColor='black'))\n",
    ")\n",
    "\n",
    "alt.layer(bar, line).resolve_scale(\n",
    "    y = 'independent'\n",
    ")"
   ]
  },
  {
   "cell_type": "code",
   "execution_count": null,
   "metadata": {},
   "outputs": [],
   "source": [
    "source = df[df['member_casual']=='member']\n",
    "\n",
    "base = alt.Chart(source).encode(\n",
    "    alt.X('time_hour', axis=alt.Axis(title=None))\n",
    ").properties(width=400, height=200)\n",
    "\n",
    "bar = base.mark_bar(color='#ff7f0e').encode(\n",
    "    alt.Y('count(ride_id)',\n",
    "          axis=alt.Axis(title='Count of Ride', titleColor='black')),\n",
    ")\n",
    "\n",
    "line = base.mark_line(stroke='red', interpolate='monotone').encode(\n",
    "    alt.Y('median(Time_minutes)',\n",
    "          axis=alt.Axis(title='Rent Time (minutes)', titleColor='black'))\n",
    ")\n",
    "\n",
    "alt.layer(bar, line).resolve_scale(\n",
    "    y = 'independent'\n",
    ")"
   ]
  },
  {
   "cell_type": "code",
   "execution_count": null,
   "metadata": {},
   "outputs": [],
   "source": [
    "start_station_member= df[df['member_casual']=='member'].groupby('start_station').agg(func={'ride_id':'count'}).nlargest(10,'ride_id').reset_index()\n",
    "start_station_member"
   ]
  },
  {
   "cell_type": "code",
   "execution_count": null,
   "metadata": {},
   "outputs": [],
   "source": [
    "source = start_station_member\n",
    "\n",
    "# Menampilkan bar chart\n",
    "alt.Chart(source).mark_bar(color='#ff7f0e').encode(\n",
    "    x=alt.X('ride_id', title='Count of Ride').axis(format='0.2f'),\n",
    "    y=alt.Y('start_station', title=None, sort='-x'),\n",
    ").properties(\n",
    "    title=alt.Title(\n",
    "        \"Top 10 Start Station for Member Users \",\n",
    "        anchor='start',\n",
    "        font='Calibri',\n",
    "        fontSize=18,\n",
    "        offset=20,\n",
    "    ),\n",
    "    width=400, height=200,\n",
    ")"
   ]
  },
  {
   "cell_type": "code",
   "execution_count": null,
   "metadata": {},
   "outputs": [],
   "source": [
    "stop_station_member= df[df['member_casual']=='member'].groupby('stop_station').agg(func={'ride_id':'count'}).nlargest(10,'ride_id').reset_index()\n",
    "stop_station_member"
   ]
  },
  {
   "cell_type": "code",
   "execution_count": null,
   "metadata": {},
   "outputs": [],
   "source": [
    "source = stop_station_member\n",
    "\n",
    "# Menampilkan bar chart\n",
    "alt.Chart(source).mark_bar(color='#ff7f0e').encode(\n",
    "    x=alt.X('ride_id', title='Count of Ride').axis(format='0.2f'),\n",
    "    y=alt.Y('stop_station', title=None, sort='-x'),\n",
    ").properties(\n",
    "    title=alt.Title(\n",
    "        \"55% of Patients Indicated Obesity and Overweight\",\n",
    "        subtitle='Patient Percentage (%) by BMI Category',\n",
    "        anchor='start',\n",
    "        font='Calibri',\n",
    "        fontSize=18,\n",
    "        offset=20,\n",
    "    ),\n",
    "    width=400, height=200,\n",
    ")"
   ]
  },
  {
   "cell_type": "code",
   "execution_count": null,
   "metadata": {},
   "outputs": [],
   "source": [
    "start_station_casual= df[df['member_casual']=='casual'].groupby('start_station').agg(func={'ride_id':'count'}).nlargest(10,'ride_id').reset_index()\n",
    "start_station_casual"
   ]
  },
  {
   "cell_type": "code",
   "execution_count": null,
   "metadata": {},
   "outputs": [],
   "source": [
    "source = start_station_casual\n",
    "\n",
    "# Menampilkan bar chart\n",
    "alt.Chart(source).mark_bar(color='#5778a4').encode(\n",
    "    x=alt.X('ride_id', title='Count of Ride').axis(format='0.2f'),\n",
    "    y=alt.Y('start_station', title=None, sort='-x'),\n",
    ").properties(\n",
    "    title=alt.Title(\n",
    "        \"Top 10 Start Station for Casual Users\",\n",
    "        anchor='start',\n",
    "        font='Calibri',\n",
    "        fontSize=18,\n",
    "        offset=20,\n",
    "    ),\n",
    "    width=400, height=200,\n",
    ")"
   ]
  },
  {
   "cell_type": "code",
   "execution_count": null,
   "metadata": {},
   "outputs": [],
   "source": [
    "stop_station_casual= df[df['member_casual']=='casual'].groupby('stop_station').agg(func={'ride_id':'count'}).nlargest(10,'ride_id').reset_index()\n",
    "stop_station_casual"
   ]
  },
  {
   "cell_type": "code",
   "execution_count": null,
   "metadata": {},
   "outputs": [],
   "source": [
    "source = stop_station_casual\n",
    "\n",
    "# Menampilkan bar chart\n",
    "alt.Chart(source).mark_bar(color='#5778a4').encode(\n",
    "    x=alt.X('ride_id', title='Count of Ride').axis(format='0.2f'),\n",
    "    y=alt.Y('stop_station', title=None, sort='-x'),\n",
    ").properties(\n",
    "    title=alt.Title(\n",
    "        \"55% of Patients Indicated Obesity and Overweight\",\n",
    "        subtitle='Patient Percentage (%) by BMI Category',\n",
    "        anchor='start',\n",
    "        font='Calibri',\n",
    "        fontSize=18,\n",
    "        offset=20,\n",
    "    ),\n",
    "    width=400, height=200,\n",
    ")"
   ]
  },
  {
   "cell_type": "code",
   "execution_count": null,
   "metadata": {},
   "outputs": [],
   "source": [
    "df.head()"
   ]
  },
  {
   "cell_type": "code",
   "execution_count": null,
   "metadata": {},
   "outputs": [],
   "source": [
    "station_member= df.loc[df['member_casual']=='member'].groupby('stop_station').agg(func={'ride_id':'count'}).nlargest(10,'ride_id').reset_index()\n",
    "station_member"
   ]
  },
  {
   "cell_type": "code",
   "execution_count": 28,
   "metadata": {},
   "outputs": [],
   "source": [
    "station= pd.read_csv('station_database.csv')"
   ]
  },
  {
   "cell_type": "code",
   "execution_count": null,
   "metadata": {},
   "outputs": [],
   "source": [
    "station"
   ]
  },
  {
   "cell_type": "code",
   "execution_count": null,
   "metadata": {},
   "outputs": [],
   "source": [
    "station_member= pd.merge(start_station_member,station, how='left', left_on='start_station', right_on='station_name')\n",
    "station_member"
   ]
  },
  {
   "cell_type": "code",
   "execution_count": null,
   "metadata": {},
   "outputs": [],
   "source": [
    "station_casual= pd.merge(start_station_casual,station, how='left', left_on='start_station', right_on='station_name')\n",
    "station_casual"
   ]
  },
  {
   "cell_type": "code",
   "execution_count": 34,
   "metadata": {},
   "outputs": [],
   "source": [
    "import folium "
   ]
  },
  {
   "cell_type": "code",
   "execution_count": null,
   "metadata": {},
   "outputs": [],
   "source": [
    "chicago_map = folium.Map(location=[41.881832, -87.623177], zoom_start=15)\n",
    "# buat marker rumah termahal\n",
    "for i in range(0, len(station_member)):\n",
    "    folium.Marker(\n",
    "        location= [station_member.iloc[i]['lat'], station_member.iloc[i]['lng']],\n",
    "        popup=station_member.iloc[i]['station_name'],\n",
    "        icon= folium.Icon(\n",
    "                color='orange', \n",
    "                icon='info-sign')).add_to(chicago_map)\n",
    "\n",
    "for i in range(0, len(station_casual)):\n",
    "    folium.Marker(\n",
    "        location= [station_casual.iloc[i]['lat'], station_casual.iloc[i]['lng']],\n",
    "        popup=station_casual.iloc[i]['station_name'],\n",
    "        icon= folium.Icon(\n",
    "                color='blue', \n",
    "                icon='info-sign')).add_to(chicago_map)\n",
    "chicago_map"
   ]
  },
  {
   "cell_type": "code",
   "execution_count": null,
   "metadata": {},
   "outputs": [],
   "source": [
    "\n"
   ]
  }
 ],
 "metadata": {
  "kernelspec": {
   "display_name": "3.9.12",
   "language": "python",
   "name": "python3"
  },
  "language_info": {
   "codemirror_mode": {
    "name": "ipython",
    "version": 3
   },
   "file_extension": ".py",
   "mimetype": "text/x-python",
   "name": "python",
   "nbconvert_exporter": "python",
   "pygments_lexer": "ipython3",
   "version": "3.9.12"
  }
 },
 "nbformat": 4,
 "nbformat_minor": 2
}
